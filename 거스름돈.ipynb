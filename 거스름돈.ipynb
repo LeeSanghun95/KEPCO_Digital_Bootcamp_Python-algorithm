{
 "cells": [
  {
   "cell_type": "markdown",
   "id": "fe966518-9116-4221-a509-fe8ad94978c0",
   "metadata": {},
   "source": [
    "## 거스름 돈\n",
    "- 당신은 음식점의 계산을 도와주는 점원입니다. 카운터에는 거스름 돈으로 사용할 500원, 100원, 50원, 10원 짜리 동전이 무한히 존재한다고 가정합니다. 손님에게 거슬러 주어야 할 돈이 N원일 때 거슬러 주어야 할 동전의 최소 개수를 구하세요. 단, 거슬러 줘야 할 돈 N은 항상 10의 배수입니다."
   ]
  },
  {
   "cell_type": "code",
   "execution_count": 8,
   "id": "da3c9bb9-2cd6-435b-848c-5d2de6ee997c",
   "metadata": {},
   "outputs": [
    {
     "name": "stdout",
     "output_type": "stream",
     "text": [
      "7\n"
     ]
    }
   ],
   "source": [
    "n = 1270\n",
    "count = 0\n",
    "\n",
    "while True:\n",
    "    if n - 500 > 0:\n",
    "        n = n - 500\n",
    "    elif n - 100 >= 0:\n",
    "        n = n - 100\n",
    "    elif n - 50 >= 0:\n",
    "        n = n - 50\n",
    "    else: #elif n - 10 >= 0:\n",
    "        n = n - 10\n",
    "    \n",
    "    count += 1\n",
    "        \n",
    "    if n == 0: break\n",
    "\n",
    "print(count)"
   ]
  },
  {
   "cell_type": "code",
   "execution_count": 1,
   "id": "b9bde548",
   "metadata": {},
   "outputs": [
    {
     "name": "stdout",
     "output_type": "stream",
     "text": [
      "7\n"
     ]
    }
   ],
   "source": [
    "n = 1270\n",
    "count = 0\n",
    "\n",
    "while True:\n",
    "    if n >= 500:\n",
    "        count += (n // 500)\n",
    "        n = n % 500\n",
    "    elif n >= 100:\n",
    "        count += (n // 100)\n",
    "        n = n % 100\n",
    "    elif n >= 50:\n",
    "        count += (n // 50)\n",
    "        n = n % 50\n",
    "    elif n >= 10:\n",
    "        count += (n // 10)\n",
    "        n = n % 10\n",
    "\n",
    "    if n == 0: break\n",
    "        \n",
    "print(count)"
   ]
  },
  {
   "cell_type": "code",
   "execution_count": 3,
   "id": "cc8b96ed",
   "metadata": {},
   "outputs": [
    {
     "name": "stdout",
     "output_type": "stream",
     "text": [
      "3\n"
     ]
    }
   ],
   "source": [
    "n = 520\n",
    "count = 0\n",
    "화폐 = [500, 100, 50, 10]\n",
    "for coin in 화폐:\n",
    "    count += (n // coin)\n",
    "    n = n % coin\n",
    "print(count)"
   ]
  },
  {
   "cell_type": "code",
   "execution_count": 2,
   "id": "1d1cf44e",
   "metadata": {},
   "outputs": [
    {
     "name": "stdout",
     "output_type": "stream",
     "text": [
      "n 24 k 3 count 1\n",
      "n 8 k 3 count 2\n",
      "n 6 k 3 count 4\n",
      "n 2 k 3 count 5\n",
      "6\n"
     ]
    }
   ],
   "source": [
    "n = 25\n",
    "k = 3\n",
    "count = 0\n",
    "while True:\n",
    "    if n % k == 0:  # 나누어 떨어진다면\n",
    "        n = n // k\n",
    "        count += 1\n",
    "    else:  # 나누어 떨어지지 않는 경우\n",
    "        if n >= k:\n",
    "            수 = n // k * k # 8 * 3 ==> 24\n",
    "            count += (n - 수)\n",
    "            n = n - (n - 수)\n",
    "        else:\n",
    "            count += (n - 1)\n",
    "            break\n",
    "    print('n %s k %s count %s' % (n, k, count))\n",
    "print(count)"
   ]
  }
 ],
 "metadata": {
  "kernelspec": {
   "display_name": "Python 3",
   "language": "python",
   "name": "python3"
  },
  "language_info": {
   "codemirror_mode": {
    "name": "ipython",
    "version": 3
   },
   "file_extension": ".py",
   "mimetype": "text/x-python",
   "name": "python",
   "nbconvert_exporter": "python",
   "pygments_lexer": "ipython3",
   "version": "3.11.1"
  },
  "vscode": {
   "interpreter": {
    "hash": "37f91cc0c070187dce239b0bb567252df3e5c25ad45d10fe329421047add4468"
   }
  }
 },
 "nbformat": 4,
 "nbformat_minor": 5
}

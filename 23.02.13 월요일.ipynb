{
 "cells": [
  {
   "cell_type": "code",
   "execution_count": null,
   "id": "a9729d5a",
   "metadata": {
    "scrolled": true
   },
   "outputs": [
    {
     "data": {
      "text/plain": [
       "0"
      ]
     },
     "execution_count": 82,
     "metadata": {},
     "output_type": "execute_result"
    }
   ],
   "source": [
    "list(\"1\").count(\"3\")"
   ]
  },
  {
   "cell_type": "code",
   "execution_count": null,
   "id": "f66d63a3",
   "metadata": {
    "scrolled": false
   },
   "outputs": [
    {
     "name": "stdout",
     "output_type": "stream",
     "text": [
      "개수 : 20\n",
      "개수 : 20\n"
     ]
    }
   ],
   "source": [
    "count = 0\n",
    "\n",
    "for i in range(1,101):\n",
    "    count += list(str(i)).count(\"3\")\n",
    "#    if \"3\" in str(i):\n",
    "#         count += 1\n",
    "        \n",
    "print(\"개수 : \" + str(count))\n",
    "print(\"개수 : %s\" % count)\n"
   ]
  },
  {
   "cell_type": "code",
   "execution_count": null,
   "id": "269b9778",
   "metadata": {
    "scrolled": true
   },
   "outputs": [
    {
     "name": "stdout",
     "output_type": "stream",
     "text": [
      "소년은 개울가에서 소녀를 보자 곧 윤 초시네 증손녀(曾孫女)딸이라는 걸 알 수\n",
      "있었다. 소녀는 개울에다 손을 잠그고 물장난을 하고 있는 것이다. 서울서는 이런\n",
      "개울물을 보지 못하기나 한 듯이.\n",
      "벌써 며칠째 소녀는, 학교에서 돌아오는 길에 물장난이었다. 그런데, 어제까지 개울\n",
      "기슭에서 하더니, 오늘은 징검다리 한가운데 앉아서 하고 있다.\n",
      "소년은 개울둑에 앉아 버렸다. 소녀가 비키기를 기다리자는 것이다.\n",
      "요행 지나가는 사람이 있어, 소녀가 길을 비켜 주었다.\n",
      "다음 날은 좀 늦게 개울가로 나왔다.\n",
      "이 날은 소녀가 징검다리 한가운데 앉아 세수를 하고 있었다. 분홍 스웨터 소매를\n",
      "걷어올린 목덜미가 마냥 희었다.\n",
      "한참 세수를 하고 나더니, 이번에는 물 속을 빤히 들여다 본다. 얼굴이라도 비추어\n",
      "보는 것이리라. 갑자기 물을 움켜 낸다. 고기 새끼라도 지나가는 듯.\n",
      "소녀는 소년이 개울둑에 앉아 있는 걸 아는지 모르는지 그냥 날쌔게 물만 움켜\n",
      "낸다. 그러나, 번번이 허탕이다. 그대로 재미있는 양, 자꾸 물만 움킨다. 어제처럼\n",
      "개울을 건너는 사람이 있어야 길을 비킬 모양이다.\n",
      "그러다가 소녀가 물 속에서 무엇을 하나 집어 낸다. 하얀 조약돌이었다. 그리고는\n",
      "벌떡 일어나 팔짝팔짝 징검다리를 뛰어 건너간다.\n",
      "다 건너가더니만 홱 이리로 돌아서며,\n",
      "\"이 바보.\"\n",
      "조약돌이 날아왔다.\n",
      "소년은 저도 모르게 벌떡 일어섰다.\n",
      "단발 머리를 나풀거리며 소녀가 막 달린다. 갈밭 사잇길로 들어섰다. 뒤에는 청량한\n",
      "가을 햇살 아래 빛나는 갈꽃뿐.\n",
      "이제 저쯤 갈밭머리로 소녀가 나타나리라. 꽤 오랜 시간이 지났다고 생각됐다.\n",
      "그런데도 소녀는 나타나지 않는다. 발돋움을 했다. 그러고도 상당한 시간이\n",
      "지났다고 생각됐다.\n",
      "저 쪽 갈밭머리에 갈꽃이 한 옴큼 움직였다. 소녀가 갈꽃을 안고 있었다. 그리고,\n",
      "이제는 천천한 걸음이었다. 유난히 맑은 가을 햇살이 소녀의 갈꽃머리에서\n",
      "반짝거렸다. 소녀 아닌 갈꽃이 들길을 걸어가는 것만 같았다.\n",
      "소년은 이 갈꽃이 아주 뵈지 않게 되기까지 그대로 서 있었다. 문득, 소녀가 던지\n",
      "조약돌을 내려다보았다. 물기가 걷혀 있었다. 소년은 조약돌을 집어 주머니에\n",
      "넣었다.\n",
      "다음 날부터 좀더 늦게 개울가로 나왔다. 소녀의 그림자가 뵈지 않았다.\n",
      "다행이었다.\n",
      "그러나, 이상한 일이었다. 소녀의 그림자가 뵈지 않는 날이 계속될수록 소년의 가슴\n",
      "한 구석에는 어딘가 허전함이 자리 잡는 것이었다. 주머니 속 조약돌을 주무르는\n",
      "버릇이 생겼다.\n",
      "그러한 어떤 날, 소년은 전에 소녀가 앉아 물장난을 하던 징검다리 한가운데에\n",
      "앉아 보았다. 물 속에 손을 잠갔다. 세수를 하였다. 물 속을 들여다보았다. 검게 탄\n",
      "얼굴이 그대로 비치었다. 싫었다.\n",
      "소년은 두 손으로 물 속의 얼굴을 움키었다. 몇 번이고 움키었다. 그러다가 깜짝\n",
      "놀라 일어나고 말았다. 소녀가 이리로 건너오고 있지 않느냐.\n",
      "\"숨어서 내가 하는 일을 엿보고 있었구나.\" 소년은 달리기를 시작했다. 디딤돌을\n",
      "헛디뎠다. 한 발이 물 속에 빠졌다. 더 달렸다.\n",
      "몸을 가릴 데가 있어 줬으면 좋겠다. 이 쪽 길에는 갈밭도 없다. 메밀밭이다. 전에\n",
      "없이 메밀꽃 냄새가 짜릿하게 코를 찌른다고 생각됐다. 미간이 아찔했다. 찝찔한\n",
      "액체가 입술에 흘러들었다. 코피였다.\n",
      "소년은 한 손으로 코피를 훔쳐내면서 그냥 달렸다. 어디선가 \"바보, 바보\" 하는\n",
      "소리가 자꾸만 뒤따라오는 것 같았다.\n",
      "토요일이었다.\n",
      "개울가에 이르니, 며칠째 보이지 않던 소녀가 건너편 가에 앉아 물장난을 하고\n",
      "있었다. 모르는 체 징검다리를 건너기 시작했다. 얼마 전에 소녀 앞에서 한 번\n",
      "실수를 했을 뿐, 여태 큰길 가듯이 건너던 징검다리를 오늘은 조심스럽게 건넌다.\n",
      "\"얘.\"\n",
      "못 들은 체했다. 둑 위로 올라섰다.\n",
      "\"얘, 이게 무슨 조개지?\"\n",
      "자기도 모르게 돌아섰다. 소녀의 맑고 검은 눈과 마주쳤다. 얼른 소녀의 손바닥으로\n",
      "눈을 떨구었다.\n",
      "\"비단조개.\"\n",
      "\"이름도 참 곱다.\"\n",
      "갈림길에 왔다. 여기서 소녀는 아래편으로 한 삼 마장쯤, 소년은 우대로 한 십 리\n",
      "가까운 길을 가야 한다.\n",
      "소녀가 걸음을 멈추며,\n",
      "\"너, 저 산 너머에 가 본 일 있니?\"\n",
      "벌 끝을 가리켰다.\n",
      "\"없다.\"\n",
      "\"우리, 가 보지 않으련? 시골 오니까 혼자서 심심해 못 견디겠다.\"\n",
      "\"저래 봬도 멀다.\"\n",
      "\"멀면 얼마나 멀기에? 서울 있을 땐 사뭇 먼 데까지 소풍 갔었다.\"\n",
      "소녀의 눈이 금새 \"바보,바보,\"할 것만 같았다.\n",
      "논 사잇길로 들어섰다. 벼 가을걷이하는 곁을 지났다.\n",
      "허수아비가 서 있었다. 소년이 새끼줄을 흔들었다. 참새가 몇 마리 날아간다. \"참,\n",
      "오늘은 일찍 집으로 돌아가 텃논의 참새를 봐야 할걸.\" 하는 생각이 든다.\n",
      "\"야, 재밌다!\"\n",
      "소녀가 허수아비 줄을 잡더니 흔들어 댄다. 허수아비가 자꾸 우쭐거리며 춤을 춘다.\n",
      "소녀의 왼쪽 볼에 살포시 보조개가 패었다.\n",
      "저만큼 허수아비가 또 서 있다. 소녀가 그리로 달려간다. 그 뒤를 소년도 달렸다.\n",
      "오늘 같은 날은 일찍 집으로 돌아가 집안일을 도와야 한다는 생각을\n",
      "잊어버리기라도 하려는 듯이.\n",
      "소녀의 곁을 스쳐 그냥 달린다. 메뚜기가 따끔따끔 얼굴에 와 부딪친다. 쪽빛으로\n",
      "한껏 갠 가을 하늘이 소년의 눈앞에서 맴을 돈다. 어지럽다. 저놈의 독수리, 저놈의\n",
      "독수리, 저놈의 독수리가 맴을 돌고 있기 때문이다.\n",
      "돌아다보니, 소녀는 지금 자기가 지나쳐 온 허수아비를 흔들고 있다. 좀 전\n",
      "허수아비보다 더 우쭐거린다.\n",
      "논이 끝난 곳에 도랑이 하나 있었다. 소녀가 먼저 뛰어 건넜다.\n",
      "거기서부터 산 밑까지는 밭이었다.\n",
      "수숫단을 세워 놓은 밭머리를 지났다.\n",
      "\"저게 뭐니?\"\n",
      "\"원두막.\"\n",
      "\"여기 참외, 맛있니?\"\n",
      "\"그럼, 참외 맛도 좋지만 수박 맛은 더 좋다.\"\n",
      "\"하나 먹어 봤으면.\"\n",
      "소년이 참외 그루에 심은 무우밭으로 들어가, 무우 두 밑을 뽑아 왔다. 아직 밑이\n",
      "덜 들어 있었다. 잎을 비틀어 팽개친 후, 소녀에게 한개 건넨다. 그리고는 이렇게\n",
      "먹어야 한다는 듯이, 먼저 대강이를 한 입 베물어 낸 다음, 손톱으로 한 돌이\n",
      "껍질을 벗겨 우쩍 깨문다.\n",
      "소녀도 따라 했다. 그러나, 세 입도 못 먹고,\n",
      "\"아, 맵고 지려.\"\n",
      "하며 집어던지고 만다.\n",
      "\"참, 맛 없어 못 먹겠다.\"\n",
      "소년이 더 멀리 팽개쳐 버렸다.\n",
      "산이 가까워졌다.\n",
      "단풍이 눈에 따가웠다.\n",
      "\"야아!\"\n",
      "소녀가 산을 향해 달려갔다. 이번은 소년이 뒤따라 달리지 않았다. 그러고도 곧\n",
      "소녀보다 더 많은 꽃을 꺾었다.\n",
      "\"이게 들국화, 이게 싸리꽃, 이게 도라지꽃,…….\"\n",
      "\"도라지꽃이 이렇게 예쁜 줄은 몰랐네. 난 보랏빛이 좋아!…… 그런데, 이 양산\n",
      "같이 생긴 노란 꽃이 뭐지?\"\n",
      "\"마타리꽃.\"\n",
      "소녀는 마타리꽃을 양산 받듯이 해 보인다. 약간 상기된 얼굴에 살포시 보조개를\n",
      "떠올리며.\n",
      "다시 소년은 꽃 한 옴큼을 꺾어 왔다. 싱싱한 꽃가지만 골라 소녀에게 건넨다.\n",
      "그러나 소녀는\n",
      "\"하나도 버리지 마라.\"\n",
      "산마루께로 올라갔다.\n",
      "맞은편 골짜기에 오순도순 초가집이 몇 모여 있었다.\n",
      "누가 말할 것도 아닌데, 바위에 나란히 걸터앉았다. 유달리 주위가 조용해진 것\n",
      "같았다. 따가운 가을 햇살만이 말라가는 풀 냄새를 퍼뜨리고 있었다.\n",
      "\"저건 또 무슨 꽃이지?\"\n",
      "적잖이 비탈진 곳에 칡덩굴이 엉키어 꽃을 달고 있었다.\n",
      "\"꼭 등꽃 같네. 서울 우리 학교에 큰 등나무가 있었단다. 저 꽃을 보니까 등나무\n",
      "밑에서 놀던 동무들 생각이 난다.\"\n",
      "소녀가 조용히 일어나 비탈진 곳으로 간다. 꽃송이가 많이 달린 줄기를 잡고 끊기\n",
      "시작한다. 좀처럼 끊어지지 않는다. 안간힘을 쓰다가 그만 미끄러지고 만다.\n",
      "칡덩굴을 그러쥐었다.\n",
      "소년이 놀라 달려갔다. 소녀가 손을 내밀었다. 손을 잡아 이끌어 올리며, 소년은\n",
      "제가 꺾어다 줄 것을 잘못했다고 뉘우친다. 소녀의 오른쪽 무릎에 핏방울이\n",
      "내맺혔다. 소년은 저도 모르게 생채기에 입술을 가져다 대고 빨기 시작했다.\n",
      "그러다가, 무슨 생각을 했는지 홱 일어나 저 쪽으로 달려간다.\n",
      "좀 만에 숨이 차 돌아온 소년은\n",
      "\"이걸 바르면 낫는다.\"\n",
      "송진을 생채기에다 문질러 바르고는 그 달음으로 칡덩굴 있는 데로 내려가, 꽃\n",
      "많이 달린 몇 줄기를 이빨로 끊어 가지고 올라온다. 그리고는,\n",
      "\"저기 송아지가 있다. 그리 가 보자.\"\n",
      "누렁송아지였다. 아직 코뚜레도 꿰지 않았다.\n",
      "소년이 고삐를 바투 잡아 쥐고 등을 긁어 주는 체 훌쩍 올라탔다. 송아지가\n",
      "껑충거리며 돌아간다.\n",
      "소녀의 흰 얼굴이, 분홍 스웨터가, 남색 스커트가, 안고 있는 꽃과 함께 범벅이\n",
      "된다. 모두가 하나의 큰 꽃묶음 같다. 어지럽다. 그러나, 내리지 않으리라.\n",
      "자랑스러웠다. 이것만은 소녀가 흉내 내지 못할, 자기 혼자만이 할 수 있는 일인\n",
      "것이다.\n",
      "\"너희, 예서 뭣들 하느냐?\"\n",
      "농부(農夫)하나가 억새풀 사이로 올라왔다.\n",
      "송아지 등에서 뛰어내렸다. 어린 송아지를 타서 허리가 상하면 어쩌느냐고\n",
      "꾸지람을 들을 것만 같다.\n",
      "그런데, 나룻이 긴 농부는 소녀 편을 한 번 훑어보고는 그저 송아지 고삐를 풀어\n",
      "내면서,\n",
      "\"어서들 집으로 가거라. 소나기가 올라.\"\n",
      "참, 먹장구름 한 장이 머리 위에 와 있다. 갑자기 사면이 소란스러워진 것 같다.\n",
      "바람이 우수수 소리를 내며 지나간다. 삽시간에 주위가 보랏빛으로 변했다.\n",
      "산을 내려오는데, 떡갈나무 잎에서 빗방울 듣는 소리가 난다. 굵은 빗방울이었다.\n",
      "목덜미가 선뜻선뜻했다. 그러자, 대번에 눈앞을 가로막는 빗줄기.\n",
      "비안개 속에 원두막이 보였다. 그리로 가 비를 그을 수밖에.\n",
      "그러나, 원두막은 기둥이 기울고 지붕도 갈래갈래 찢어져 있었다. 그런 대로 비가\n",
      "덜 새는 곳을 가려 소녀를 들어서게 했다.\n",
      "소녀의 입술이 파아랗게 질렸다. 어깨를 자꾸 떨었다.\n",
      "무명 겹저고리를 벗어 소녀의 어깨를 싸 주었다. 소녀는 비에 젖은 눈을 들어 한\n",
      "번 쳐다보았을 뿐, 소년이 하는 대로 잠자코 있었다. 그리고는, 안고 온 꽃묶음\n",
      "속에서 가지가 꺾이고 꽃이 일그러진 송이를 골라 발 밑에 버린다. 소녀가 들어선\n",
      "곳도 비가 새기 시작했다. 더 거기서 비를 그을 수 없었다.\n",
      "밖을 내다보던 소년이 무엇을 생각했는지 수수밭 쪽으로 달려간다. 세워 놓은\n",
      "수숫단 속을 비집어 보더니, 옆의 수숫단을 날라다 덧세운다. 다시 속을 비집어\n",
      "본다. 그리고는 이쪽을 향해 손짓을 한다.\n",
      "수숫단 속은 비는 안 새었다. 그저 어둡고 좁은 게 안 됐다. 앞에 나앉은 소년은\n",
      "그냥 비를 맞아야만 했다. 그런 소년의 어깨에서 김이 올랐다.\n",
      "소녀가 속삭이듯이, 이리 들어와 앉으라고 했다. 괜찮다고 했다. 소녀가 다시,\n",
      "들어와 앉으라고 했다. 할 수 없이 뒷걸음질을 쳤다. 그 바람에, 소녀가 안고 있는\n",
      "꽃묶음이 망그러졌다. 그러나, 소녀는 상관없다고 생각했다. 비에 젖은 소년의 몸\n",
      "내음새가 확 코에 끼얹혀졌다. 그러나, 고개를 돌리지 않았다. 도리어 소년의\n",
      "몸기운으로 해서 떨리던 몸이 적이 누그러지는 느낌이었다.\n",
      "소란하던 수숫잎 소리가 뚝 그쳤다. 밖이 멀개졌다.\n",
      "수숫단 속을 벗어 나왔다. 멀지 않은 앞쪽에 햇빛이 눈부시게 내리붓고 있었다.\n",
      "도랑 있는 곳까지 와 보니, 엄청나게 물이 불어 있었다. 빛마저 제법 붉은\n",
      "흙탕물이었다. 뛰어 건널 수가 없었다.\n",
      "소년이 등을 돌려 댔다. 소녀가 순순히 업히었다. 걷어올린 소년의 잠방이까지 물이\n",
      "올라왔다. 소녀는 \"어머나\"소리를 지르며 소년의 목을 끌어안았다.\n",
      "개울가에 다다르기 전에, 가을 하늘이 언제 그랬는가 싶게 구름 한 점 없이\n",
      "쪽빛으로 개어 있었다.\n",
      "그 뒤로 소녀의 모습은 뵈지 않았다. 매일같이 개울가로 달려와 봐도 뵈지 않았다.\n",
      "학교에서 쉬는 시간에 운동장을 살피기도 했다. 남 몰래 5 학년 여자 반을 엿보기도\n",
      "했다. 그러나, 뵈지 않았다.\n",
      "그날도 소년은 주머니 속 흰 조약돌만 만지작거리며 개울가로 나왔다. 그랬더니, 이\n",
      "쪽 개울둑에 소녀가 앉아 있는 게 아닌가.\n",
      "소년은 가슴부터 두근거렸다.\n",
      "\"그 동안 앓았다.\"\n",
      "어쩐지 소녀의 얼굴이 해쓱해져 있었다.\n",
      "\"그 날, 소나기 맞은 탓 아냐?\"\n",
      "소녀가 가만히 고개를 끄덕이었다.\n",
      "\"인제 다 났냐?\"\n",
      "\"아직도…….\"\n",
      "\"그럼, 누워 있어야지.\"\n",
      "\"하도 갑갑해서 나왔다. ……참, 그 날 재밌었어……. 그런데그 날 어디서 이런 물이\n",
      "들었는지 잘 지지 않는다.\"\n",
      "소녀가 분홍 스웨터 앞자락을 내려다본다. 거기에 검붉은 진흙물 같은 게 들어\n",
      "있었다.\n",
      "소녀가 가만히 보조개를 떠올리며,\n",
      "\"그래 이게 무슨 물 같니?\"\n",
      "소년은 스웨터 앞자락만 바라보고 있었다.\n",
      "\"내, 생각해 냈다. 그 날, 도랑을 건너면서 내가 업힌 일이 있지? 그 때, 네 등에서\n",
      "옮은 물이다.\"\n",
      "소년은 얼굴이 확 달아오름을 느꼈다.\n",
      "갈림길에서 소녀는\n",
      "\"저, 오늘 아침에 우리 집에서 대추를 땄다. 낼 제사 지내려고…….\"\n",
      "대추 한 줌을 내준다. 소년은 주춤한다.\n",
      "\"맛봐라. 우리 증조(曾祖)할아버지가 심었다는데, 아주 달다.\"\n",
      "소년은 두 손을 오그려 내밀며,\n",
      "\"참, 알도 굵다!\"\n",
      "\"그리고 저, 우리 이번에 제사 지내고 나서 좀 있다. 집을 내주게 됐다.\"\n",
      "소년은 소녀네가 이사해 오기 전에 벌써 어른들의 이야기를 들어서, 윤 초시\n",
      "손자(孫子)가 서울서 사업에 실패해 가지고 고향에 돌아오지 않을 수 없게\n",
      "되었다는 걸 알고 있었다. 그것이 이번에는 고향 집마저 남의 손에 넘기게 된\n",
      "모양이었다.\n",
      "\"왜 그런지 난 이사 가는 게 싫어졌다. 어른들이 하는 일이니 어쩔 수 없지만…….\"\n",
      "전에 없이, 소녀의 까만 눈에 쓸쓸한 빛이 떠돌았다.\n",
      "소녀와 헤어져 돌아오는 길에, 소년은 혼잣속으로, 소녀가 이사를 간다는 말을\n",
      "수없이 되뇌어 보았다. 무어 그리 안타까울 것도 서러울 것도 없었다. 그렇건만,\n",
      "소년은 지금 자기가 씹고 있는 대추알의 단맛을 모르고 있었다.\n",
      "이 날 밤, 소년은 몰래 덕쇠 할아버지네 호두밭으로 갔다.\n",
      "낯에 봐 두었던 나무로 올라갔다. 그리고, 봐 두었던 가지를 향해 작대기를\n",
      "내리쳤다. 호두송이 떨어지는 소리가 별나게 크게 들렸다. 가슴이 선뜩했다. 그러나\n",
      "다음 순간, 굵은 호두야 많이 떨어져라, 많이 떨어져라, 저도 모를 힘에 이끌려\n",
      "마구 작대기를 내리 치는 것이었다.\n",
      "돌아오는 길에는 열 이틀 달이 지우는 그늘만 골라 디뎠다. 그늘의 고마움을 처음\n",
      "느꼈다.\n",
      "불룩한 주머니를 어루만졌다. 호두송이를 맨손으로 깠다가는 옴이 오르기 쉽다는\n",
      "말 같은 건 아무렇지도 않았다. 그저 근동에서 제일 가는 이 덕쇠 할아버지네\n",
      "호두를 어서 소녀에게 맛보여야 한다는 생각만이 앞섰다.\n",
      "그러다, 아차 하는 생각이 들었다. 소녀더러 병이 좀 낫거들랑 이사 가기 전에 한\n",
      "번 개울가로 나와 달라는 말을 못해 둔 것이었다. 바보 같은것, 바보 같은것.\n",
      "이튿날, 소년이 학교에서 돌아오니, 아버지가 나들이옷으로 갈아입고 닭 한 마리를\n",
      "안고 있었다.\n",
      "어디 가시느냐고 물었다.\n",
      "그 말에도 대꾸도 없이, 아버지는 안고 있는 닭의 무게를 겨냥해 보면서,\n",
      "\"이만하면 될까?\"\n",
      "어머니가 망태기를 내주며,\n",
      "\"벌써 며칠째 \"걀걀\"하고 알 날 자리를 보던데요. 크진 않아도살은 쪘을 거여요.\"\n",
      "소년이 이번에는 어머니한테 아버지가 어디 가시느냐고 물어 보았다.\n",
      "\"저, 서당골 윤 초시 댁에 가신다. 제삿상에라도 놓으시라고…….\"\n",
      "\"그럼, 큰 놈으로 하나 가져가지. 저 얼룩수탉으로…….\"\n",
      "이 말에, 아버지는 허허 웃고 나서,\n",
      "\"임마, 그래도 이게 실속이 있다.\"\n",
      "소년은 공연히 열적어, 책보를 집어던지고는 외양간으로가, 쇠잔등을 한 번 철썩\n",
      "갈겼다. 쇠파리라도 잡는 체.\n",
      "개울물은 날로 여물어 갔다.\n",
      "소년은 갈림길에서 아래쪽으로 가 보았다. 갈밭머리에서 바라보는 서당골 마을은\n",
      "쪽빛 하늘 아래 한결 가까워 보였다.\n",
      "어른들의 말이, 내일 소녀네가 양평읍으로 이사 간다는 것이었다. 거기 가서는\n",
      "조그마한 가겟방을 보게 되리라는 것이었다.\n",
      "소년은 저도 모르게 주머니 속 호두알을 만지작거리며, 한 손으로는 수없이 갈꽃을\n",
      "휘어 꺾고 있었다.\n",
      "그 날 밤, 소년은 자리에 누워서도 같은 생각뿐이었다. 내일 소녀네가 이사하는 걸\n",
      "가 보나 어쩌나. 가면 소녀를 보게 될까 어떨까.\n",
      "그러다가 까무룩 잠이 들었는가 하는데,\n",
      "\"허, 참 세상일도…….\"\n",
      "마을 갔던 아버지가 언제 돌아왔는지,\n",
      "\"윤 초시 댁도 말이 아니야, 그 많던 전답을 다 팔아 버리고, 대대로 살아오던\n",
      "집마저 남의 손에 넘기더니, 또 악상까지 당하는걸 보면…….\"\n",
      "남폿불 밑에서 바느질감을 안고 있던 어머니가,\n",
      "\"증손(曾孫)이라곤 계집애 그 애 하나뿐이었지요?\"\n",
      "\"그렇지, 사내 애 둘 있던 건 어려서 잃어버리고…….\"\n",
      "\"어쩌면 그렇게 자식복이 없을까.\"\n",
      "\"글쎄 말이지. 이번 앤 꽤 여러 날 앓는 걸 약도 변변히 못써 봤다더군. 지금\n",
      "같아서 윤 초시네도 대가 끊긴 셈이지.……그런데참, 이번 계집앤 어린 것이 여간\n",
      "잔망스럽지가 않아. 글쎄, 죽기전에 이런 말을 했다지 않아? 자기가 죽거든 자기\n",
      "입던 옷을 꼭그대로 입혀서 묻어 달라고…….\" (끝)\n"
     ]
    }
   ],
   "source": [
    "import requests\n",
    "res = requests.get(\"http://ggoreb.com/quiz/소나기.txt\")\n",
    "res.encoding = None #\"utf8\" #ms949 #None \n",
    "text = res.text\n",
    "\n",
    "print(text)"
   ]
  },
  {
   "cell_type": "code",
   "execution_count": null,
   "id": "5d1f5ad4",
   "metadata": {
    "scrolled": true
   },
   "outputs": [
    {
     "name": "stdout",
     "output_type": "stream",
     "text": [
      "칡덩굴이 엉키어 꽃을 달고 있었다.\n",
      "칡덩굴을 그러쥐었다.\n",
      "칡덩굴 있는 데로 내려가, 꽃많이 달린 몇 줄기를 이빨로 끊어 가지고 올라온다.\n"
     ]
    }
   ],
   "source": [
    "위치 = 0\n",
    "\n",
    "while True:\n",
    "    위치 = text.find(\"칡\", 위치)#\"칡\" 문자를 찾는 시작 할 위치\n",
    "    마침표 = text.find(\".\", 위치)#\"칡\" 문자 뒤에 존재하는 마침표 위치\n",
    "    \n",
    "    if 위치 == -1: #콜론뒤에 들여쓰기가 와야한다.\n",
    "        break\n",
    "    else:\n",
    "        print( text[위치:마침표+1].replace(\"\\n\", \"\") )\n",
    "        위치 = 위치 + 1 #다음번 찾을 위치 \n",
    "        "
   ]
  },
  {
   "cell_type": "code",
   "execution_count": null,
   "id": "fddf0b68",
   "metadata": {},
   "outputs": [
    {
     "name": "stdout",
     "output_type": "stream",
     "text": [
      "추출된 숫자 : 8\n",
      "추출된 숫자 : 8\n",
      "추출된 숫자 : 7\n",
      "추출된 숫자 : 7\n",
      "추출된 숫자 : 4\n",
      "추출된 숫자 : 4\n",
      "추출된 숫자 : 4\n",
      "추출된 숫자 : 7\n",
      "추출된 숫자 : 6\n",
      "추출된 숫자 : 3\n",
      "추출된 숫자 : 4\n",
      "추출된 숫자 : 7\n",
      "추출된 숫자 : 8\n",
      "추출된 숫자 : 4\n",
      "추출된 숫자 : 4\n",
      "추출된 숫자 : 10\n",
      "추출된 숫자 : 7\n",
      "추출된 숫자 : 6\n",
      "추출된 숫자 : 6\n",
      "추출된 숫자 : 4\n",
      "추출된 숫자 : 1\n",
      "추출된 숫자 : 8\n",
      "추출된 숫자 : 2\n",
      "추출된 숫자 : 3\n",
      "추출된 숫자 : 7\n",
      "추출된 숫자 : 4\n",
      "추출된 숫자 : 7\n",
      "추출된 숫자 : 9\n",
      "추출된 숫자 : 2\n",
      "추출된 숫자 : 3\n",
      "추출된 숫자 : 10\n",
      "추출된 숫자 : 2\n",
      "추출된 숫자 : 7\n",
      "추출된 숫자 : 3\n",
      "추출된 숫자 : 2\n",
      "추출된 숫자 : 3\n",
      "추출된 숫자 : 10\n",
      "추출된 숫자 : 7\n",
      "추출된 숫자 : 10\n",
      "추출된 숫자 : 4\n",
      "추출된 숫자 : 4\n",
      "추출된 숫자 : 8\n",
      "추출된 숫자 : 2\n",
      "추출된 숫자 : 3\n",
      "추출된 숫자 : 8\n",
      "추출된 숫자 : 4\n",
      "추출된 숫자 : 5\n"
     ]
    }
   ],
   "source": [
    "import random\n",
    "\n",
    "while True:\n",
    "    number = random.randint(1, 10)\n",
    "    print('추출된 숫자 : %d' % number)\n",
    "    if number == 5:\n",
    "        break"
   ]
  },
  {
   "cell_type": "code",
   "execution_count": null,
   "id": "8484d4c4",
   "metadata": {
    "scrolled": true
   },
   "outputs": [
    {
     "data": {
      "text/plain": [
       "2"
      ]
     },
     "execution_count": 87,
     "metadata": {},
     "output_type": "execute_result"
    }
   ],
   "source": [
    "import random\n",
    "\n",
    "random.random()\n",
    "\n",
    "int(random.random() * 6) + 1"
   ]
  },
  {
   "cell_type": "code",
   "execution_count": 45,
   "id": "a8b74469",
   "metadata": {
    "scrolled": true
   },
   "outputs": [
    {
     "name": "stdout",
     "output_type": "stream",
     "text": [
      "4\n",
      "[]\n",
      "43\n",
      "[4]\n",
      "24\n",
      "[4, 43]\n",
      "15\n",
      "[4, 43, 24]\n",
      "40\n",
      "[4, 43, 24, 15]\n",
      "8\n",
      "[4, 43, 24, 15, 40]\n",
      "[4, 43, 24, 15, 40, 8]\n"
     ]
    }
   ],
   "source": [
    "import random\n",
    "\n",
    "lotto = []\n",
    "count = list(range(6))\n",
    "\n",
    "for i in count:\n",
    "    n = random.randint(1, 45)\n",
    "    \n",
    "    print(n)\n",
    "    print(lotto)\n",
    "    #랜덤으로 뽑은 숫자가 lotto list에 존재하는지? 있으면 1 없으면 0 반환\n",
    "    if lotto.count(n) > 0: \n",
    "        count.append(0) #중복이 있다면 건너뛴 횟수만큼 한번더 숫자를 뽑기위해 count list의 크기를 한칸 늘림  \n",
    "    else:\n",
    "        lotto.append(n)  #lotto += [n]   \n",
    "\n",
    "print(lotto)"
   ]
  },
  {
   "cell_type": "code",
   "execution_count": null,
   "id": "0e548424",
   "metadata": {},
   "outputs": [
    {
     "name": "stdout",
     "output_type": "stream",
     "text": [
      "[17, 18, 26, 27, 35, 44]\n"
     ]
    }
   ],
   "source": [
    "import random\n",
    "\n",
    "#dir(set()) #set 내장함수 조회시 \n",
    "#set() 집합 자료형의 특징\n",
    "#중복허용X, 정해진 순서가 없음 \n",
    "\n",
    "lotto = set() #리스트가 아닌 집합으로\n",
    "\n",
    "while True:\n",
    "    n = random.randint(1,45)\n",
    "    lotto.add(n)\n",
    "    if len(lotto) == 6: break\n",
    "\n",
    "#list(lotto).lotto.sort() 이렇게하면 안됨\n",
    "lotto = list(lotto)\n",
    "lotto.sort()\n",
    "print( lotto )"
   ]
  },
  {
   "cell_type": "code",
   "execution_count": null,
   "id": "a5b15569",
   "metadata": {},
   "outputs": [
    {
     "name": "stdout",
     "output_type": "stream",
     "text": [
      "AAA!!!!\n",
      "None\n"
     ]
    }
   ],
   "source": [
    "def a(): \n",
    "    print(\"AAA!!!!\")\n",
    "\n",
    "result = a()\n",
    "\n",
    "print(result)"
   ]
  },
  {
   "cell_type": "code",
   "execution_count": 44,
   "id": "d01c1cff",
   "metadata": {},
   "outputs": [
    {
     "name": "stdout",
     "output_type": "stream",
     "text": [
      "수박수박수"
     ]
    }
   ],
   "source": [
    "n = 5 #하드코딩 -값을 직접(코드) 입력하는 것\n",
    "\n",
    "def 수박(x):\n",
    "    반 = x // 2\n",
    "    print(반 * \"수박\", end=\"\")\n",
    "\n",
    "    if n % 2 != 0:\n",
    "        print(\"수\", end=\"\")\n",
    "\n",
    "        \n",
    "수박(n)"
   ]
  },
  {
   "cell_type": "code",
   "execution_count": 43,
   "id": "a4785eec",
   "metadata": {},
   "outputs": [
    {
     "data": {
      "text/plain": [
       "'수박수박수'"
      ]
     },
     "execution_count": 43,
     "metadata": {},
     "output_type": "execute_result"
    }
   ],
   "source": [
    "n = 5 #하드코딩 -값을 직접(코드) 입력하는 것\n",
    "\n",
    "def 수박(x):\n",
    "    buffer = \"\"\n",
    "\n",
    "    반 = x // 2\n",
    "    buffer += (반 * \"수박\")\n",
    "\n",
    "    if n % 2 != 0:\n",
    "        buffer += \"수\"\n",
    "    return buffer\n",
    "\n",
    "\n",
    "수박(n)"
   ]
  },
  {
   "cell_type": "code",
   "execution_count": 16,
   "metadata": {},
   "outputs": [
    {
     "name": "stdout",
     "output_type": "stream",
     "text": [
      "7\n"
     ]
    }
   ],
   "source": [
    "n = 124\n",
    "\n",
    "def 합구하기(n):\n",
    "    합 = 0\n",
    "    while True:\n",
    "        자리수 = n % 10\n",
    "        합 += 자리수\n",
    "        n //= 10\n",
    "        if n == 0: break\n",
    "    print(합)\n",
    "\n",
    "합구하기(n)"
   ]
  },
  {
   "cell_type": "code",
   "execution_count": 41,
   "id": "0a793fb6",
   "metadata": {},
   "outputs": [
    {
     "data": {
      "text/plain": [
       "[<matplotlib.lines.Line2D at 0x1fafe7de910>]"
      ]
     },
     "execution_count": 41,
     "metadata": {},
     "output_type": "execute_result"
    },
    {
     "data": {
      "image/png": "[encoded data removed]",
      "text/plain": [
       "<Figure size 640x480 with 1 Axes>"
      ]
     },
     "metadata": {},
     "output_type": "display_data"
    }
   ],
   "source": [
    "import matplotlib.pyplot\n",
    "\n",
    "data = [\"1\", \"11\", \"2\", \"21\", \"3\", \"4\"]\n",
    "#리스트의 문자를 숫자로 변경\n",
    "data = list( map( lambda x: int(x) , data ) )\n",
    "matplotlib.pyplot.plot(data)"
   ]
  },
  {
   "cell_type": "code",
   "execution_count": 47,
   "id": "f69ef5d4",
   "metadata": {},
   "outputs": [
    {
     "name": "stdout",
     "output_type": "stream",
     "text": [
      "1시 3분 5초\n"
     ]
    }
   ],
   "source": [
    "# 67초\n",
    "# 1분 7초\n",
    "문제 = 3785\n",
    "시간 = 문제 // (60*60)\n",
    "분 = (문제 % 3600) // 60\n",
    "초 = (문제 % 60)\n",
    "\n",
    "print(\"%s시 %s분 %s초\" % (시간, 분 ,초))"
   ]
  },
  {
   "cell_type": "code",
   "execution_count": 3,
   "metadata": {},
   "outputs": [
    {
     "name": "stdout",
     "output_type": "stream",
     "text": [
      "17 24 1 8 15 \n",
      "23 5 7 14 16 \n",
      "4 6 13 20 22 \n",
      "10 12 19 21 3 \n",
      "11 18 25 2 9 \n"
     ]
    }
   ],
   "source": [
    "#리스트컴프리헨션\n",
    "m = [ [0 for i in range(5)] for j in [0 for i in range(5)] ] \n",
    "\n",
    "row = 0\n",
    "col = 2\n",
    "\n",
    "m[row][col] = 1\n",
    "\n",
    "for i in range(2, 26):\n",
    "    원래row = row\n",
    "    원래col = col\n",
    "    row -= 1\n",
    "    col += 1\n",
    "    if row < 0:\n",
    "        row = 4\n",
    "    # else:\n",
    "    #     m[row][col] = i\n",
    "\n",
    "    if col > 4:\n",
    "        col = 0\n",
    "    \n",
    "    if m[row][col] != 0:\n",
    "        # row += 2\n",
    "        # col -= 1\n",
    "        row = 원래row + 1\n",
    "        col = 원래col\n",
    "\n",
    "    #print(\"%s %s %s\" % (row, col, i))\n",
    "    m[row][col] = i\n",
    "    \n",
    "#m\n",
    "for a in m:\n",
    "    for b in a:\n",
    "        print(b, end=' ')\n",
    "    print()"
   ]
  },
  {
   "cell_type": "code",
   "execution_count": 10,
   "metadata": {},
   "outputs": [
    {
     "data": {
      "text/plain": [
       "[3,\n",
       " 25,\n",
       " 15,\n",
       " 5,\n",
       " 16,\n",
       " 18,\n",
       " 14,\n",
       " 13,\n",
       " 17,\n",
       " 22,\n",
       " 4,\n",
       " 8,\n",
       " 9,\n",
       " 20,\n",
       " 21,\n",
       " 6,\n",
       " 24,\n",
       " 11,\n",
       " 10,\n",
       " 2,\n",
       " 23,\n",
       " 1,\n",
       " 12,\n",
       " 7,\n",
       " 19]"
      ]
     },
     "execution_count": 10,
     "metadata": {},
     "output_type": "execute_result"
    }
   ],
   "source": [
    "import random\n",
    "\n",
    "\n",
    "bingo = [ i for i in range(1, 26) ]\n",
    "random.shuffle(bingo)\n",
    "bingo"
   ]
  },
  {
   "cell_type": "code",
   "execution_count": null,
   "id": "aec39c8f",
   "metadata": {},
   "outputs": [],
   "source": []
  }
 ],
 "metadata": {
  "kernelspec": {
   "display_name": "Python 3",
   "language": "python",
   "name": "python3"
  },
  "language_info": {
   "codemirror_mode": {
    "name": "ipython",
    "version": 3
   },
   "file_extension": ".py",
   "mimetype": "text/x-python",
   "name": "python",
   "nbconvert_exporter": "python",
   "pygments_lexer": "ipython3",
   "version": "3.11.1"
  },
  "vscode": {
   "interpreter": {
    "hash": "37f91cc0c070187dce239b0bb567252df3e5c25ad45d10fe329421047add4468"
   }
  }
 },
 "nbformat": 4,
 "nbformat_minor": 5
}

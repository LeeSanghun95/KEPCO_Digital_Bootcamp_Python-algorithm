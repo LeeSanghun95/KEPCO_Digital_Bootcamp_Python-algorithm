{
 "cells": [
  {
   "cell_type": "markdown",
   "id": "07f12aac",
   "metadata": {},
   "source": [
    "# 인디언 이름 짓기\n",
    "<h1>인디언식 이름 짓기</h1>"
   ]
  },
  {
   "cell_type": "code",
   "execution_count": 2,
   "id": "4a84d1ac",
   "metadata": {},
   "outputs": [],
   "source": [
    "year = {\n",
    "   0: '시끄러운 또는 말 많은',\n",
    "   1: '푸른',\n",
    "   2: '어두운 -> 적색',\n",
    "   3: '조용한',\n",
    "   4: '웅크린',\n",
    "   5: '백색',\n",
    "   6: '지혜로운',\n",
    "   7: '용감한',\n",
    "   8: '날카로운',\n",
    "   9: '욕심많은'\n",
    "}\n",
    "month = {\n",
    "   1: '늑대', 2: '태양', 3: '양', 4: '매',\n",
    "   5: '황소', 6: '불꽃', 7: '나무', 8: '달빛',\n",
    "   9: '말', 10: '돼지', 11: '하늘', 12: '바람'\n",
    "}\n",
    "day = {\n",
    "   1: '와(과) 함께 춤을', 2: '의 기상', 3: '은(는) 그림자속에',\n",
    "   4: '', 5: '', 6: '',\n",
    "   7: '의 환생', 8: '의 죽음', 9: '의 아래에서',\n",
    "   10: '을(를) 보라', 11: '이(가) 노래하다', 12: '의 그늘 -> 그림자',\n",
    "   13: '의 일격', 14: '에게 쫓기는 남자', 15: '의 행진',\n",
    "   16: '의 왕', 17: '의 유령', 18: '을 죽인자',\n",
    "   19: '은(는) 맨날 잠 잔다', 20: '처럼', 21: '의 고향',\n",
    "   22: '의 전사', 23: '은(는) 나의 친구', 24: '의 노래',\n",
    "   25: '의 정령', 26: '의 파수꾼', 27: '의 악마',\n",
    "   28: '와(과) 같은 사나이', 29: '의 심판자 -> 을(를) 쓰러트린 자', 30: '의 혼',\n",
    "   31: '은(는) 말이 없다',\n",
    "}"
   ]
  },
  {
   "cell_type": "code",
   "execution_count": 14,
   "id": "4b20cd52",
   "metadata": {},
   "outputs": [
    {
     "name": "stdout",
     "output_type": "stream",
     "text": [
      "08\n",
      "07\n"
     ]
    }
   ],
   "source": [
    "#    0123456789\n",
    "s = '1971-08-07'\n",
    "s.find('-'), s.find('-', 5)\n",
    "첫번째 = s.find('-')\n",
    "두번째 = s.find('-', 첫번째+1)\n",
    "월 = s[첫번째+1 : 두번째]  # <= -08이 아닌 08이 나오도록\n",
    "print(월) # 일자 07이 출력되도록\n",
    "일 = s[두번째+1 : ]\n",
    "print(일)"
   ]
  },
  {
   "cell_type": "code",
   "execution_count": 21,
   "id": "8be9425f",
   "metadata": {},
   "outputs": [
    {
     "name": "stdout",
     "output_type": "stream",
     "text": [
      "푸른달빛의 환생\n"
     ]
    }
   ],
   "source": [
    "#           0123456789\n",
    "birthday = '1971-08-07'\n",
    "\n",
    "y = birthday[3]\n",
    "y = birthday[   birthday.find('-') - 1   ]\n",
    "\n",
    "m = birthday[5:7]\n",
    "m = birthday[birthday.find('-') + 1 : birthday.find('-', 5) ]\n",
    "m = birthday[birthday.find('-') + 1 : 7 ]\n",
    "d = birthday[8:10]\n",
    "print(\n",
    "    '%s%s%s' % (\n",
    "        year.get( int(y) ), \n",
    "        month.get( int(m) ), \n",
    "        day.get( int(d) )\n",
    "    )\n",
    ")\n"
   ]
  },
  {
   "cell_type": "code",
   "execution_count": 22,
   "id": "2c6a5951",
   "metadata": {},
   "outputs": [
    {
     "name": "stdout",
     "output_type": "stream",
     "text": [
      "(1, 2, 3)\n"
     ]
    }
   ],
   "source": [
    "a = 1, 2, 3\n",
    "print(a)"
   ]
  },
  {
   "cell_type": "code",
   "execution_count": 23,
   "id": "c0c26880",
   "metadata": {},
   "outputs": [],
   "source": [
    "import requests\n",
    "res = requests.get('https://newsapi.org/v2/top-headlines?country=kr&apiKey=9f5baf7d9f3f42879a20d7d19d9886e4')\n",
    "result = res.json()"
   ]
  },
  {
   "cell_type": "code",
   "execution_count": 25,
   "id": "78634335",
   "metadata": {
    "collapsed": true
   },
   "outputs": [
    {
     "name": "stdout",
     "output_type": "stream",
     "text": [
      "2023년 02월 10일\n",
      "2023년 02월 10일\n",
      "2023년 02월 10일\n",
      "2023년 02월 10일\n",
      "2023년 02월 10일\n",
      "2023년 02월 10일\n",
      "2023년 02월 09일\n",
      "2023년 02월 09일\n",
      "2023년 02월 09일\n",
      "2023년 02월 09일\n",
      "2023년 02월 09일\n",
      "2023년 02월 09일\n",
      "2023년 02월 09일\n",
      "2023년 02월 09일\n",
      "2023년 02월 09일\n",
      "2023년 02월 09일\n",
      "2023년 02월 09일\n",
      "2023년 02월 09일\n",
      "2023년 02월 09일\n",
      "2023년 02월 09일\n"
     ]
    }
   ],
   "source": [
    "articles = result.get('articles')\n",
    "for article in articles:\n",
    "    publishedAt = article.get('publishedAt')\n",
    "    y = publishedAt[:publishedAt.find('-')]\n",
    "    \n",
    "    idx = publishedAt.find('-')\n",
    "    idx2 = publishedAt.find('-', idx+1)\n",
    "    m = publishedAt[idx+1 : idx2]\n",
    "    \n",
    "    idx3 = publishedAt.find('T')\n",
    "    d = publishedAt[idx2+1 : idx3]\n",
    "    print('%s년 %s월 %s일' % (y, m, d))"
   ]
  },
  {
   "cell_type": "code",
   "execution_count": null,
   "id": "fd8d9ac9",
   "metadata": {},
   "outputs": [],
   "source": [
    "s = '1971-08-07'\n",
    "s.split('-'), s.split('-')[0] "
   ]
  },
  {
   "cell_type": "markdown",
   "id": "a55386dc",
   "metadata": {},
   "source": [
    "# 로또 1등번호 가져오기"
   ]
  },
  {
   "cell_type": "code",
   "execution_count": 33,
   "id": "5383d4ab",
   "metadata": {},
   "outputs": [],
   "source": [
    "import requests\n",
    "res = requests.get(\n",
    "    'https://dhlottery.co.kr/gameResult.do?method=byWin')\n",
    "result = res.text"
   ]
  },
  {
   "cell_type": "code",
   "execution_count": 47,
   "id": "591d8b38",
   "metadata": {
    "collapsed": true
   },
   "outputs": [
    {
     "name": "stdout",
     "output_type": "stream",
     "text": [
      "<strong>1053회</strong> 당첨결과</h4>\r\n",
      "\t\t\t\t\t<p class=\"desc\">(2023년 02월 04일 추첨)</p>\r\n",
      "\t\t\t\t\t<div class=\"nums\">\r\n",
      "\t\t\t\t\t\t<div class=\"num win\">\r\n",
      "\t\t\t\t\t\t\t<strong>당첨번호</strong>\r\n",
      "\t\t\t\t\t\t\t<p>\r\n",
      "\t\t\t\t\t\t\t\t<span class=\"ball_645 lrg ball3\">22</span>\r\n",
      "\t\t\t\t\t\t\t\t<span class=\"ball_645 lrg ball3\">26</span>\r\n",
      "\t\t\t\t\t\t\t\t<span class=\"ball_645 lrg ball3\">29</span>\r\n",
      "\t\t\t\t\t\t\t\t<span class=\"ball_645 lrg ball3\">30</span>\r\n",
      "\t\t\t\t\t\t\t\t<span class=\"ball_645 lrg ball4\">34</span>\r\n",
      "\t\t\t\t\t\t\t\t<span class=\"ball_645 lrg ball5\">45</span>\r\n",
      "\t\t\t\t\t\t\t</p>\r\n",
      "\t\t\t\t\t\t</div>\r\n",
      "\t\t\t\t\t\t<div class=\"\n"
     ]
    }
   ],
   "source": [
    "sidx = result.find('<strong>1053회</strong>')\n",
    "eidx = result.find('num bonus', sidx)\n",
    "result2 = result[sidx:eidx]\n",
    "print(result2)"
   ]
  },
  {
   "cell_type": "code",
   "execution_count": 56,
   "id": "5cb35dbc",
   "metadata": {},
   "outputs": [
    {
     "data": {
      "text/plain": [
       "'22'"
      ]
     },
     "execution_count": 56,
     "metadata": {},
     "output_type": "execute_result"
    }
   ],
   "source": [
    "sidx = result2.find('ball_645')\n",
    "sidx = result2.find('>', sidx)\n",
    "eidx = result2.find('<', sidx)\n",
    "result2[sidx+1 : eidx]"
   ]
  },
  {
   "cell_type": "code",
   "execution_count": 54,
   "id": "c31db7a3",
   "metadata": {
    "collapsed": true
   },
   "outputs": [
    {
     "name": "stdout",
     "output_type": "stream",
     "text": [
      "-1\n"
     ]
    },
    {
     "data": {
      "text/plain": [
       "'<strong>1053회</strong> 당첨결과</h4>\\r\\n\\t\\t\\t\\t\\t<p class=\"desc\">(2023년 02월 04일 추첨)</p>\\r\\n\\t\\t\\t\\t\\t<div class=\"nums\">\\r\\n\\t\\t\\t\\t\\t\\t<div class=\"num win\">\\r\\n\\t\\t\\t\\t\\t\\t\\t<strong>당첨번호</strong>\\r\\n\\t\\t\\t\\t\\t\\t\\t<p>\\r\\n\\t\\t\\t\\t\\t\\t\\t\\t<span class=\"ball_645 lrg ball3\">22</span>\\r\\n\\t\\t\\t\\t\\t\\t\\t\\t<span class=\"ball_645 lrg ball3\">26</span>\\r\\n\\t\\t\\t\\t\\t\\t\\t\\t<span class=\"ball_645 lrg ball3\">29</span>\\r\\n\\t\\t\\t\\t\\t\\t\\t\\t<span class=\"ball_645 lrg ball3\">30</span>\\r\\n\\t\\t\\t\\t\\t\\t\\t\\t<span class=\"ball_645 lrg ball4\">34</span>\\r\\n\\t\\t\\t\\t\\t\\t\\t\\t<span class=\"ball_645 lrg ball5\">45</span>\\r\\n\\t\\t\\t\\t\\t\\t\\t</p>\\r\\n\\t\\t\\t\\t\\t\\t</div>\\r\\n\\t\\t\\t\\t\\t\\t<div class='"
      ]
     },
     "execution_count": 54,
     "metadata": {},
     "output_type": "execute_result"
    }
   ],
   "source": [
    "sidx = result2.find('ball_645', eidx)\n",
    "print(sidx)\n",
    "sidx = result2.find('>', sidx)\n",
    "eidx = result2.find('<', sidx)\n",
    "result2[sidx+1 : eidx]"
   ]
  },
  {
   "cell_type": "code",
   "execution_count": null,
   "id": "af51caf0",
   "metadata": {},
   "outputs": [],
   "source": [
    "for i in range(4):\n",
    "    \n",
    "def abc():"
   ]
  },
  {
   "cell_type": "code",
   "execution_count": 55,
   "id": "4063949b",
   "metadata": {},
   "outputs": [
    {
     "name": "stdout",
     "output_type": "stream",
     "text": [
      "22\n",
      "26\n",
      "29\n",
      "30\n",
      "34\n",
      "45\n"
     ]
    }
   ],
   "source": [
    "eidx = 0\n",
    "while True:\n",
    "    sidx = result2.find('ball_645', eidx)\n",
    "    if sidx == -1: break\n",
    "    sidx = result2.find('>', sidx)\n",
    "    eidx = result2.find('<', sidx)\n",
    "    print(result2[sidx+1 : eidx])"
   ]
  },
  {
   "cell_type": "code",
   "execution_count": 59,
   "id": "ff7eb284",
   "metadata": {},
   "outputs": [
    {
     "name": "stdout",
     "output_type": "stream",
     "text": [
      "3\n",
      "2\n",
      "1\n"
     ]
    }
   ],
   "source": [
    "num = 123  # 1 2 3\n",
    "일자리 = num % 10\n",
    "print(일자리)\n",
    "십자리 = num // 10 % 10\n",
    "print(십자리)\n",
    "백자리 = num // 100 % 10\n",
    "print(백자리)"
   ]
  },
  {
   "cell_type": "code",
   "execution_count": 62,
   "id": "1b664b04",
   "metadata": {},
   "outputs": [
    {
     "data": {
      "text/plain": [
       "3"
      ]
     },
     "execution_count": 62,
     "metadata": {},
     "output_type": "execute_result"
    }
   ],
   "source": [
    "int(123.0 % 10)"
   ]
  },
  {
   "cell_type": "code",
   "execution_count": 69,
   "id": "6b18eed8",
   "metadata": {},
   "outputs": [
    {
     "name": "stdout",
     "output_type": "stream",
     "text": [
      "[1, 2, 3]\n",
      "6\n"
     ]
    }
   ],
   "source": [
    "num = 123\n",
    "temp = str(num)\n",
    "temp2 = list(temp)\n",
    "print(list(map(int, temp2)))\n",
    "print(sum(list(map(int, temp2))))"
   ]
  },
  {
   "cell_type": "code",
   "execution_count": 63,
   "id": "98b43d0c",
   "metadata": {},
   "outputs": [
    {
     "name": "stdout",
     "output_type": "stream",
     "text": [
      "3\n",
      "2\n",
      "1\n"
     ]
    }
   ],
   "source": [
    "num = 123  # 1 2 3\n",
    "while True:\n",
    "    n = num % 10\n",
    "    print(n)\n",
    "    num = num // 10\n",
    "    if num == 0: break"
   ]
  },
  {
   "cell_type": "code",
   "execution_count": 77,
   "id": "8a192ae4",
   "metadata": {},
   "outputs": [
    {
     "data": {
      "text/plain": [
       "(1, 10)"
      ]
     },
     "execution_count": 77,
     "metadata": {},
     "output_type": "execute_result"
    }
   ],
   "source": [
    "page = 10  # 10으로 나누어 떨어지는 페이지는 오동작\n",
    "# 시작 1   마지막 10  <==\n",
    "시작 = (page-1) // 10 * 10 + 1\n",
    "# if page % 10 == 0:\n",
    "#     시작 = page - 9\n",
    "\n",
    "마지막 = 시작 + 9\n",
    "시작, 마지막"
   ]
  },
  {
   "cell_type": "code",
   "execution_count": null,
   "id": "6bfc196d",
   "metadata": {},
   "outputs": [],
   "source": [
    "if text:\n",
    "    "
   ]
  },
  {
   "cell_type": "code",
   "execution_count": 87,
   "id": "366b0009",
   "metadata": {},
   "outputs": [],
   "source": [
    "# 폴더가 없으면 생성하기\n",
    "import os\n",
    "# if os.path.isdir('ggoreb') == False:\n",
    "if not os.path.isdir('ggoreb'):\n",
    "    os.mkdir('ggoreb')"
   ]
  },
  {
   "cell_type": "code",
   "execution_count": 89,
   "id": "cc869df9",
   "metadata": {},
   "outputs": [
    {
     "name": "stdout",
     "output_type": "stream",
     "text": [
      "cd\n"
     ]
    }
   ],
   "source": [
    "#       012345\n",
    "text = 'abcdef'  # 홀수 => c\n",
    "center = len(text) // 2\n",
    "if len(text) % 2 != 0:\n",
    "    print(text[center])\n",
    "else:\n",
    "    #             2    :    4\n",
    "    print(text[center-1:center+1])"
   ]
  },
  {
   "cell_type": "markdown",
   "id": "6d553dab",
   "metadata": {},
   "source": [
    "#### 비교 & 논리 연산자"
   ]
  },
  {
   "cell_type": "code",
   "execution_count": 94,
   "id": "20e25986",
   "metadata": {},
   "outputs": [],
   "source": [
    "a = 4\n",
    "b = 2\n",
    "c = 1\n",
    "# a가 5이고 b가 3이거나 c가 1이면 통과\n",
    "if b == 3 or c == 1 and a == 5:\n",
    "    print('통과')"
   ]
  },
  {
   "cell_type": "code",
   "execution_count": 95,
   "id": "3b193ef8",
   "metadata": {},
   "outputs": [
    {
     "name": "stdout",
     "output_type": "stream",
     "text": [
      "19\n"
     ]
    }
   ],
   "source": [
    "count = 0\n",
    "for i in range(1, 101):\n",
    "    if '3' in str(i):\n",
    "        count = count + 1\n",
    "print(count)"
   ]
  }
 ],
 "metadata": {
  "kernelspec": {
   "display_name": "Python 3 (ipykernel)",
   "language": "python",
   "name": "python3"
  },
  "language_info": {
   "codemirror_mode": {
    "name": "ipython",
    "version": 3
   },
   "file_extension": ".py",
   "mimetype": "text/x-python",
   "name": "python",
   "nbconvert_exporter": "python",
   "pygments_lexer": "ipython3",
   "version": "3.11.1"
  }
 },
 "nbformat": 4,
 "nbformat_minor": 5
}

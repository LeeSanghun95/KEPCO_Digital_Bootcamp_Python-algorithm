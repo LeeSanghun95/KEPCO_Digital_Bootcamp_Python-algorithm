{
 "cells": [
  {
   "cell_type": "markdown",
   "id": "4a892ed2",
   "metadata": {
    "tags": []
   },
   "source": [
    "## 문자열 압축하기\n",
    "#### 문자열을 입력받아서, 같은 문자가 연속적으로 반복되는 경우에 그 반복 횟수를 표시하여 문자열을 압축하기.\n",
    "\n",
    "- 입력 예시: aaabbcccccca\n",
    "\n",
    "- 출력 예시: a3b2c6a1"
   ]
  },
  {
   "cell_type": "code",
   "execution_count": 2,
   "id": "4673cf87",
   "metadata": {},
   "outputs": [
    {
     "name": "stdout",
     "output_type": "stream",
     "text": [
      "a3b2c6a1\n"
     ]
    }
   ],
   "source": [
    "s = \"aaabbcccccca\"\n",
    "result = s[0] #a\n",
    "count = 0\n",
    "for 알파벳 in s:\n",
    "    if 알파벳 == result[-1]: count += 1\n",
    "    else:\n",
    "        result += str(count) + 알파벳\n",
    "        count = 1\n",
    "\n",
    "result += str(count)\n",
    "\n",
    "print(result)"
   ]
  },
  {
   "cell_type": "markdown",
   "id": "087dca23",
   "metadata": {},
   "source": [
    "## Duplicate Numbers\n",
    "#### 0-9까지의 문자로 된 숫자를 입력 받았을 때, 이 입력 값이 0-9까지의 모든 숫자가 각각 한번씩만 사용된 것인지 확인하는 함수를 구하시오.\n",
    "\n",
    "- sample inputs: 0123456789 01234 01234567890 6789012345 012322456789\n",
    "\n",
    "- sample outputs: true false false true false"
   ]
  }
 ],
 "metadata": {
  "kernelspec": {
   "display_name": "Python 3",
   "language": "python",
   "name": "python3"
  },
  "language_info": {
   "codemirror_mode": {
    "name": "ipython",
    "version": 3
   },
   "file_extension": ".py",
   "mimetype": "text/x-python",
   "name": "python",
   "nbconvert_exporter": "python",
   "pygments_lexer": "ipython3",
   "version": "3.11.1"
  },
  "vscode": {
   "interpreter": {
    "hash": "37f91cc0c070187dce239b0bb567252df3e5c25ad45d10fe329421047add4468"
   }
  }
 },
 "nbformat": 4,
 "nbformat_minor": 5
}

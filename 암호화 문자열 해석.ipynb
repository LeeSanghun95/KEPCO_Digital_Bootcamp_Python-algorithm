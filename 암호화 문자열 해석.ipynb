{
 "cells": [
  {
   "cell_type": "code",
   "execution_count": 1,
   "metadata": {},
   "outputs": [
    {
     "name": "stdout",
     "output_type": "stream",
     "text": [
      "g fmnc wms bgblr rpylqjyrc gr zw fylb. rfyrq ufyr amknsrcpq ypc dmp. bmgle gr gl zw fylb gq glcddgagclr ylb rfyr'q ufw rfgq rcvr gq qm jmle. sqgle qrpgle.kyicrpylq() gq pcamkkclbcb. lmu ynnjw ml rfc spj.\n"
     ]
    }
   ],
   "source": [
    "import requests as req\n",
    "res = req.get('http://ggoreb.com/quiz/encrypt_string.txt')\n",
    "text = res.text\n",
    "print(text)"
   ]
  },
  {
   "attachments": {},
   "cell_type": "markdown",
   "metadata": {},
   "source": [
    "string.maketrans()를 사용\n",
    "\n",
    "문자열을 치환해 주는 함수. 숫자가능. 단, 바꾸기 전/후 문자의 길이가 같아야 한다.\n",
    "\n",
    "[예시]\n",
    "import string\n",
    " \n",
    "obj = 'python'\n",
    "before = 'thon'\n",
    "after = 'zzzz'\n",
    "sen = obj.maketrans(before, after)\n",
    "print(obj.translate(sen))\n",
    "\n",
    "[결과]\n",
    "pyzzzz"
   ]
  },
  {
   "cell_type": "code",
   "execution_count": 55,
   "metadata": {},
   "outputs": [
    {
     "name": "stdout",
     "output_type": "stream",
     "text": [
      "abcdefghijklmnopqrstuvwxyz\n",
      "cdefghijklmnopqrstuvwxyzab\n"
     ]
    }
   ],
   "source": [
    "#List 컴프리헨션\n",
    "before = [ chr(i) for i in range(ord(\"a\"), ord(\"z\")+1) ]\n",
    "before = \"\".join(before)\n",
    "print(\"\".join(before))\n",
    "\n",
    "after = before[2:] + before[:2] #c ~ b 까지 문자 슬라이싱\n",
    "after = \"\".join(after)\n",
    "print(\"\".join(after))"
   ]
  },
  {
   "cell_type": "code",
   "execution_count": 56,
   "metadata": {},
   "outputs": [
    {
     "data": {
      "text/plain": [
       "\"i hope you didnt translate it by hand. thats what computers are for. doing it in by hand is inefficient and that's why this text is so long. using string.maketrans() is recommended. now apply on the url.\""
      ]
     },
     "execution_count": 56,
     "metadata": {},
     "output_type": "execute_result"
    }
   ],
   "source": [
    "obj = \"\".maketrans(before, after) #before문자열에 after문자열의 규칙 적용\n",
    "text.translate(obj) #텍스트 파일 문자열에 obj 변환 규칙 적용"
   ]
  },
  {
   "cell_type": "code",
   "execution_count": 25,
   "metadata": {},
   "outputs": [
    {
     "name": "stdout",
     "output_type": "stream",
     "text": [
      "i hope you didnt tr{nsl{te it |y h{nd. th{ts wh{t computers {re for. doing it in |y h{nd is inefficient {nd th{t's why this text is so long. using string.m{ketr{ns() is recommended. now {pply on the url."
     ]
    }
   ],
   "source": [
    "for t in text:\n",
    "    if t in \"\\'.() '{}\":\n",
    "        print(t, end=\"\")\n",
    "    else:\n",
    "        print(chr(ord(t)+2), end=\"\")"
   ]
  },
  {
   "attachments": {},
   "cell_type": "markdown",
   "metadata": {},
   "source": [
    "\n",
    "나는 당신이 그것을 손으로 번역하지 않았기를 바랍니다. 그것이 컴퓨터의 목적입니다. 손으로 작업하는 것은 비효율적이며 이 텍스트가 너무 긴 이유입니다. string.maketrans()를 사용하는 것이 좋습니다. 지금 URL에 적용"
   ]
  },
  {
   "cell_type": "code",
   "execution_count": 13,
   "metadata": {},
   "outputs": [
    {
     "name": "stdout",
     "output_type": "stream",
     "text": [
      "i hope you didnt translate it by hand. thats what computers are for. doing it in by hand is inefficient and that's why this text is so long. using string.maketrans() is recommended. now apply on the url."
     ]
    }
   ],
   "source": [
    "# 이터러블 iterable 반복 가능 자료형\n",
    "# 1. List\n",
    "# 2. Dictionary\n",
    "# 3. String\n",
    "\n",
    "for t in text:\n",
    "\n",
    "    # a - z 문자만 2증가\n",
    "    if t >= \"a\" and t <= \"z\":\n",
    "    #문자를 아스키코드로 변환 + 2증가(두칸 뒷자리)\n",
    "     change_t = ord(t) + 2\n",
    "     \n",
    "     if change_t > ord(\"z\"):\n",
    "            change_t -= 26\n",
    "\n",
    "     print(chr(change_t), end=\"\") # 기본으로 end=\"\\n\" 들어감\n",
    "    else:\n",
    "        print(t, end=\"\")"
   ]
  }
 ],
 "metadata": {
  "kernelspec": {
   "display_name": "Python 3",
   "language": "python",
   "name": "python3"
  },
  "language_info": {
   "codemirror_mode": {
    "name": "ipython",
    "version": 3
   },
   "file_extension": ".py",
   "mimetype": "text/x-python",
   "name": "python",
   "nbconvert_exporter": "python",
   "pygments_lexer": "ipython3",
   "version": "3.11.1"
  },
  "orig_nbformat": 4,
  "vscode": {
   "interpreter": {
    "hash": "37f91cc0c070187dce239b0bb567252df3e5c25ad45d10fe329421047add4468"
   }
  }
 },
 "nbformat": 4,
 "nbformat_minor": 2
}

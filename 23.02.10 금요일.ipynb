{
 "cells": [
  {
   "cell_type": "markdown",
   "id": "7b73d1c9",
   "metadata": {},
   "source": [
    "<h1>인디언식 이름 짓기</h1>"
   ]
  },
  {
   "cell_type": "code",
   "execution_count": 8,
   "id": "fd09803c",
   "metadata": {},
   "outputs": [],
   "source": [
    "year = {\n",
    "   0: '시끄러운 또는 말 많은',\n",
    "   1: '푸른',\n",
    "   2: '어두운 -> 적색',\n",
    "   3: '조용한',\n",
    "   4: '웅크린',\n",
    "   5: '백색',\n",
    "   6: '지혜로운',\n",
    "   7: '용감한',\n",
    "   8: '날카로운',\n",
    "   9: '욕심많은'\n",
    "}\n",
    "\n",
    "month = {\n",
    "   1: '늑대', 2: '태양', 3: '양', 4: '매',\n",
    "   5: '황소', 6: '불꽃', 7: '나무', 8: '달빛',\n",
    "   9: '말', 10: '돼지', 11: '하늘', 12: '바람'\n",
    "}\n",
    "\n",
    "day = {\n",
    "   1: '와(과) 함께 춤을', 2: '의 기상', 3: '은(는) 그림자속에',\n",
    "   4: '', 5: '', 6: '',\n",
    "   7: '의 환생', 8: '의 죽음', 9: '의 아래에서',\n",
    "   10: '을(를) 보라', 11: '이(가) 노래하다', 12: '의 그늘 -> 그림자',\n",
    "   13: '의 일격', 14: '에게 쫓기는 남자', 15: '의 행진',\n",
    "   16: '의 왕', 17: '의 유령', 18: '을 죽인자',\n",
    "   19: '은(는) 맨날 잠 잔다', 20: '처럼', 21: '의 고향',\n",
    "   22: '의 전사', 23: '은(는) 나의 친구', 24: '의 노래',\n",
    "   25: '의 정령', 26: '의 파수꾼', 27: '의 악마',\n",
    "   28: '와(과) 같은 사나이', 29: '의 심판자 -> 을(를) 쓰러트린 자', 30: '의 혼',\n",
    "   31: '은(는) 말이 없다',\n",
    "}"
   ]
  },
  {
   "cell_type": "code",
   "execution_count": 65,
   "id": "a12e7f3a",
   "metadata": {},
   "outputs": [
    {
     "name": "stdout",
     "output_type": "stream",
     "text": [
      "1 08 07\n",
      "푸른 달빛 의 환생\n",
      "푸른 달빛의 환생\n"
     ]
    }
   ],
   "source": [
    "           #0123456789\n",
    "birthday = '1971-08-07'\n",
    "\n",
    "y = birthday[3]\n",
    "y = birthday[ birthday.find(\"-\") - 1 ] # 4-1=3 번째 문자 슬라이싱(:)\n",
    "m = birthday[5:7] #5~6번째 문자 슬라이싱(:)\n",
    "d = birthday[8:10] #8~9번째 문자슬라이싱(:)\n",
    "print(y, m, d)\n",
    "\n",
    "#year딕셔너리의 key값이 숫자형으로 되어있기 때문에  int로 문자형을 숫자형으로 변환\n",
    "print(year.get(int(y)), month.get(int(m)), day.get(int(d)) ) \n",
    "print(\"%s %s%s\" % (year.get(int(y)), month.get(int(m)), day.get(int(d)) ) )\n",
    "\n",
    "#5~6번째 문자 슬라이싱(:)\n",
    "#5번째 인덱스 이후의 \"-\" 하이푼을 찾음 \n",
    "#print(birthday[ birthday.find(\"-\")+1 : birthday.find(\"-\",5)])\n",
    "\n",
    "# s = '1971-08-07'\n",
    "# 첫번째 = s.find(\"-\") + 1\n",
    "# 두번째 = s.find(\"-\", 첫번째+1)\n",
    "# 월 = s[첫번째 : 두번째]\n",
    "# print(월)\n",
    "\n",
    "# 일 = s[두번째 + 1 :]\n",
    "# print(일)"
   ]
  },
  {
   "cell_type": "code",
   "execution_count": null,
   "id": "1edeffdd",
   "metadata": {
    "scrolled": false
   },
   "outputs": [],
   "source": [
    "import requests\n",
    "\n",
    "res = requests.get(\"https://newsapi.org/v2/top-headlines?country=kr&apiKey=9f5baf7d9f3f42879a20d7d19d9886e4\")\n",
    "result = res.json()\n",
    "\n",
    "articles = result.get(\"articles\")\n",
    "for article in articles:\n",
    "    publishedAt = article.get(\"publishedAt\")\n",
    "    \n",
    "    #원본 데이터: \"2023-02-10T00:29:03Z\"\n",
    "    \n",
    "    y = publishedAt[:publishedAt.find(\"-\")] #0~3번째 인덱스 문자열 가져옴\n",
    "\n",
    "    idx = publishedAt.find(\"-\")\n",
    "    idx2 = publishedAt.find(\"-\", idx+1)\n",
    "    m = publishedAt[idx+1 : idx2]\n",
    "    \n",
    "    idx3 = publishedAt.find(\"T\")\n",
    "    d = publishedAt[idx2+1 : idx3]\n",
    "    print(\"%s년 %s월 %s일\" % (y,m,d))"
   ]
  },
  {
   "cell_type": "code",
   "execution_count": 26,
   "id": "3d555382",
   "metadata": {
    "scrolled": true
   },
   "outputs": [
    {
     "name": "stdout",
     "output_type": "stream",
     "text": [
      "<strong>1053회</strong> 당첨결과</h4>\r\n",
      "\t\t\t\t\t<p class=\"desc\">(2023년 02월 04일 추첨)</p>\r\n",
      "\t\t\t\t\t<div class=\"nums\">\r\n",
      "\t\t\t\t\t\t<div class=\"num win\">\r\n",
      "\t\t\t\t\t\t\t<strong>당첨번호</strong>\r\n",
      "\t\t\t\t\t\t\t<p>\r\n",
      "\t\t\t\t\t\t\t\t<span class=\"ball_645 lrg ball3\">22</span>\r\n",
      "\t\t\t\t\t\t\t\t<span class=\"ball_645 lrg ball3\">26</span>\r\n",
      "\t\t\t\t\t\t\t\t<span class=\"ball_645 lrg ball3\">29</span>\r\n",
      "\t\t\t\t\t\t\t\t<span class=\"ball_645 lrg ball3\">30</span>\r\n",
      "\t\t\t\t\t\t\t\t<span class=\"ball_645 lrg ball4\">34</span>\r\n",
      "\t\t\t\t\t\t\t\t<span class=\"ball_645 lrg ball5\">45</span>\r\n",
      "\t\t\t\t\t\t\t</p>\r\n",
      "\t\t\t\t\t\t</div>\r\n",
      "\t\t\t\t\t\t<div class=\"\n"
     ]
    }
   ],
   "source": [
    "import requests\n",
    "\n",
    "res = requests.get(\"https://dhlottery.co.kr/gameResult.do?method=byWin\")\n",
    "result = res.text\n",
    "\n",
    "sidx = result.find(\"<strong>1053회</strong>\")\n",
    "eidx = result.find(\"num bonus\", sidx)\n",
    "\n",
    "result2 = result[sidx : eidx]\n",
    "\n",
    "print(result2)"
   ]
  },
  {
   "cell_type": "code",
   "execution_count": 27,
   "id": "2d72d364",
   "metadata": {
    "scrolled": true
   },
   "outputs": [
    {
     "data": {
      "text/plain": [
       "'22'"
      ]
     },
     "execution_count": 27,
     "metadata": {},
     "output_type": "execute_result"
    }
   ],
   "source": [
    "sidx = result2.find(\"ball_645\")\n",
    "sidx = result2.find(\">\", sidx)# \"ball_645\" 인덱스 이후의 \">\" 를 찾아라\n",
    "eidx = result2.find(\"<\", sidx)# \">\" 이후의 \"<\"를 찾아라\n",
    "\n",
    "result2[sidx + 1 : eidx]"
   ]
  },
  {
   "cell_type": "code",
   "execution_count": 28,
   "id": "27c6c6a9",
   "metadata": {},
   "outputs": [
    {
     "data": {
      "text/plain": [
       "'26'"
      ]
     },
     "execution_count": 28,
     "metadata": {},
     "output_type": "execute_result"
    }
   ],
   "source": [
    "sidx = result2.find(\"ball_645\", eidx)\n",
    "sidx = result2.find(\">\", sidx)# \"ball_645\" 인덱스 이후의 \">\" 를 찾아라\n",
    "eidx = result2.find(\"<\", sidx)# \">\" 이후의 \"<\"를 찾아라\n",
    "\n",
    "result2[sidx + 1 : eidx]"
   ]
  },
  {
   "cell_type": "code",
   "execution_count": 29,
   "id": "2c1b5ae3",
   "metadata": {},
   "outputs": [
    {
     "data": {
      "text/plain": [
       "'29'"
      ]
     },
     "execution_count": 29,
     "metadata": {},
     "output_type": "execute_result"
    }
   ],
   "source": [
    "sidx = result2.find(\"ball_645\", eidx)\n",
    "sidx = result2.find(\">\", sidx)# \"ball_645\" 인덱스 이후의 \">\" 를 찾아라\n",
    "eidx = result2.find(\"<\", sidx)# \">\" 이후의 \"<\"를 찾아라\n",
    "\n",
    "result2[sidx + 1 : eidx]"
   ]
  },
  {
   "cell_type": "code",
   "execution_count": 30,
   "id": "45d855dd",
   "metadata": {},
   "outputs": [
    {
     "data": {
      "text/plain": [
       "'30'"
      ]
     },
     "execution_count": 30,
     "metadata": {},
     "output_type": "execute_result"
    }
   ],
   "source": [
    "sidx = result2.find(\"ball_645\", eidx)\n",
    "sidx = result2.find(\">\", sidx)# \"ball_645\" 인덱스 이후의 \">\" 를 찾아라\n",
    "eidx = result2.find(\"<\", sidx)# \">\" 이후의 \"<\"를 찾아라\n",
    "\n",
    "result2[sidx + 1 : eidx]"
   ]
  },
  {
   "cell_type": "code",
   "execution_count": 31,
   "id": "c6653a7c",
   "metadata": {},
   "outputs": [
    {
     "data": {
      "text/plain": [
       "'34'"
      ]
     },
     "execution_count": 31,
     "metadata": {},
     "output_type": "execute_result"
    }
   ],
   "source": [
    "sidx = result2.find(\"ball_645\", eidx)\n",
    "sidx = result2.find(\">\", sidx)# \"ball_645\" 인덱스 이후의 \">\" 를 찾아라\n",
    "eidx = result2.find(\"<\", sidx)# \">\" 이후의 \"<\"를 찾아라\n",
    "\n",
    "result2[sidx + 1 : eidx]"
   ]
  },
  {
   "cell_type": "code",
   "execution_count": 32,
   "id": "1cb89bee",
   "metadata": {
    "scrolled": true
   },
   "outputs": [
    {
     "data": {
      "text/plain": [
       "'45'"
      ]
     },
     "execution_count": 32,
     "metadata": {},
     "output_type": "execute_result"
    }
   ],
   "source": [
    "sidx = result2.find(\"ball_645\", eidx)\n",
    "sidx = result2.find(\">\", sidx)# \"ball_645\" 인덱스 이후의 \">\" 를 찾아라\n",
    "eidx = result2.find(\"<\", sidx)# \">\" 이후의 \"<\"를 찾아라\n",
    "\n",
    "result2[sidx + 1 : eidx]"
   ]
  },
  {
   "cell_type": "code",
   "execution_count": 33,
   "id": "56c46e4a",
   "metadata": {
    "scrolled": false
   },
   "outputs": [
    {
     "name": "stdout",
     "output_type": "stream",
     "text": [
      "22\n",
      "26\n",
      "29\n",
      "30\n",
      "34\n",
      "45\n"
     ]
    }
   ],
   "source": [
    "eidx = 0\n",
    "while True:\n",
    "    sidx = result2.find(\"ball_645\", eidx)\n",
    "    if sidx == -1: break\n",
    "    sidx = result2.find(\">\", sidx)# \"ball_645\" 인덱스 이후의 \">\" 를 찾아라\n",
    "    eidx = result2.find(\"<\", sidx)# \">\" 이후의 \"<\"를 찾아라\n",
    "    print(result2[sidx + 1 : eidx])"
   ]
  },
  {
   "cell_type": "code",
   "execution_count": 13,
   "id": "1711f732",
   "metadata": {
    "scrolled": false
   },
   "outputs": [
    {
     "name": "stdout",
     "output_type": "stream",
     "text": [
      "Bodnara.co.kr\n",
      "Kbench.com\n",
      "Kormedi.com\n",
      "Gamemeca.com\n",
      "Hani.co.kr\n",
      "Hani.co.kr\n",
      "Betanews.net\n",
      "Chosun.com\n",
      "Mt.co.kr\n",
      "Sedaily.com\n",
      "Khan.co.kr\n",
      "Imbc.com\n",
      "Newslock.co.kr\n",
      "Seoul.co.kr\n",
      "Hani.co.kr\n",
      "Chosun.com\n",
      "YouTube\n",
      "Spochoo.com\n",
      "Hani.co.kr\n",
      "Korea.kr\n"
     ]
    }
   ],
   "source": [
    "import requests\n",
    "\n",
    "res = requests.get(\"https://newsapi.org/v2/top-headlines?country=kr&apiKey=9f5baf7d9f3f42879a20d7d19d9886e4\")\n",
    "\n",
    "result = res.json()\n",
    "\n",
    "articles = result.get(\"articles\")\n",
    "\n",
    "\n",
    "for article in articles:\n",
    "    source = article.get(\"source\")\n",
    "    print(source.get(\"name\"))\n",
    "    \n",
    "\n",
    "\n",
    "# source = articles.get(\"source\")\n",
    "\n",
    "# print(source)\n"
   ]
  },
  {
   "cell_type": "code",
   "execution_count": 42,
   "id": "c340b5a2",
   "metadata": {},
   "outputs": [
    {
     "name": "stdout",
     "output_type": "stream",
     "text": [
      "3\n",
      "2\n",
      "1\n"
     ]
    }
   ],
   "source": [
    "num = 123\n",
    "\n",
    "일자리 = num % 10\n",
    "print(일자리)\n",
    "\n",
    "십자리 = num // 10%10\n",
    "print(십자리)\n",
    "\n",
    "백자리 = num // 100%10\n",
    "print(백자리)\n",
    "\n"
   ]
  },
  {
   "cell_type": "code",
   "execution_count": 44,
   "id": "92f87e53",
   "metadata": {},
   "outputs": [
    {
     "name": "stdout",
     "output_type": "stream",
     "text": [
      "3\n",
      "2\n",
      "1\n"
     ]
    }
   ],
   "source": [
    "num = 123\n",
    "\n",
    "n = num % 10\n",
    "print(n)\n",
    "\n",
    "num = num  // 10\n",
    "n = num % 10 \n",
    "print(n)\n",
    "\n",
    "num = num  // 10\n",
    "n = num % 10 \n",
    "print(n)"
   ]
  },
  {
   "cell_type": "code",
   "execution_count": 45,
   "id": "e58e22fb",
   "metadata": {
    "scrolled": true
   },
   "outputs": [
    {
     "name": "stdout",
     "output_type": "stream",
     "text": [
      "3\n",
      "2\n",
      "1\n"
     ]
    }
   ],
   "source": [
    "num = 123\n",
    "while True:\n",
    "    n = num % 10\n",
    "    print(n)\n",
    "    num = num // 10\n",
    "    if num == 0: break"
   ]
  },
  {
   "cell_type": "code",
   "execution_count": 55,
   "id": "4d919281",
   "metadata": {},
   "outputs": [
    {
     "name": "stdout",
     "output_type": "stream",
     "text": [
      "[1, 2, 3]\n",
      "6\n"
     ]
    }
   ],
   "source": [
    "num = 123\n",
    "temp = str(num)\n",
    "temp2 = list(temp)\n",
    "\n",
    "#tem2 리스트 요소 하나하나에 int 자료형 캐스팅 적용\n",
    "print( list( map(int, temp2) ) ) \n",
    "\n",
    "print( sum( list( map(int, temp2) ) ) )"
   ]
  },
  {
   "cell_type": "code",
   "execution_count": 103,
   "id": "1ee1f700",
   "metadata": {},
   "outputs": [
    {
     "data": {
      "text/plain": [
       "(1, 10)"
      ]
     },
     "execution_count": 103,
     "metadata": {},
     "output_type": "execute_result"
    }
   ],
   "source": [
    " page = 10\n",
    " #시작 1` 마지막 10 \n",
    "시작 =  (page-1) // 10 * 10 + 1\n",
    "마지막 = 시작 + 9\n",
    "\n",
    "시작, 마지막"
   ]
  },
  {
   "cell_type": "code",
   "execution_count": 118,
   "id": "65abf952",
   "metadata": {},
   "outputs": [],
   "source": [
    "import os \n",
    "# dir(os.path)\n",
    "# dir(os.mkdir())\n",
    "\n",
    "# if os.path.isdir(\"ggoreb\") == False:\n",
    "#     os.mkdir(\"ggoreb\")\n",
    "    \n",
    "if not os.path.isdir(\"ggoreb\"):\n",
    "    os.mkdir(\"ggoreb\")"
   ]
  },
  {
   "cell_type": "code",
   "execution_count": 133,
   "id": "880c1de6",
   "metadata": {},
   "outputs": [
    {
     "name": "stdout",
     "output_type": "stream",
     "text": [
      "cd\n"
     ]
    }
   ],
   "source": [
    "text = \"abcdef\"\n",
    "center = len(text) // 2\n",
    "\n",
    "if len(text) % 2 != 0:\n",
    "    print(text[center])\n",
    "else:\n",
    "    print(text[center-1 : center+1])"
   ]
  },
  {
   "cell_type": "code",
   "execution_count": 137,
   "id": "d7d1f082",
   "metadata": {},
   "outputs": [
    {
     "name": "stdout",
     "output_type": "stream",
     "text": [
      "19\n"
     ]
    }
   ],
   "source": [
    "# 1 ~ 100까지의 숫자중 3이 들어가는 숫자의 개수는?\n",
    "\n",
    "count = 0\n",
    "\n",
    "for i in range(1, 101):\n",
    "    if \"3\" in str(i):\n",
    "        count += 1\n",
    "\n",
    "print(count)"
   ]
  }
 ],
 "metadata": {
  "kernelspec": {
   "display_name": "Python 3 (ipykernel)",
   "language": "python",
   "name": "python3"
  },
  "language_info": {
   "codemirror_mode": {
    "name": "ipython",
    "version": 3
   },
   "file_extension": ".py",
   "mimetype": "text/x-python",
   "name": "python",
   "nbconvert_exporter": "python",
   "pygments_lexer": "ipython3",
   "version": "3.11.1"
  }
 },
 "nbformat": 4,
 "nbformat_minor": 5
}
